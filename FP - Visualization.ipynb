{
 "cells": [
  {
   "cell_type": "code",
   "execution_count": null,
   "metadata": {},
   "outputs": [],
   "source": [
    "import numpy as np\n",
    "import pandas as pd\n",
    "import matplotlib.pyplot as plt"
   ]
  },
  {
   "cell_type": "code",
   "execution_count": null,
   "metadata": {},
   "outputs": [],
   "source": [
    "#training = pd.read_csv('C:/Users/Alvis/STA142A/train.csv')\n",
    "#test = pd.read_csv('C:/Users/Alvis/STA142A/test.csv')\n",
    "#test_labels = pd.read_csv(\"C:/Users/Alvis/STA142A/test_labels.csv\")"
   ]
  },
  {
   "cell_type": "code",
   "execution_count": null,
   "metadata": {},
   "outputs": [],
   "source": [
    "#training = pd.read_csv(\"C:/Users/Falak/Desktop/NLP/train.csv\")\n",
    "#test = pd.read_csv(\"C:/Users/Falak/Desktop/NLP/test.csv\")\n",
    "#test_labels = pd.read_csv(\"C:/Users/Falak/Desktop/NLP/test_labels.csv\")"
   ]
  },
  {
   "cell_type": "code",
   "execution_count": null,
   "metadata": {},
   "outputs": [],
   "source": [
    "training = pd.read_csv('C:/Users/dlsim/Documents/_College/1 UC Davis/4 Senior Year/Win - STA 142a - Statistical Learning I/142 Final Project/train.csv')\n",
    "test = pd.read_csv('C:/Users/dlsim/Documents/_College/1 UC Davis/4 Senior Year/Win - STA 142a - Statistical Learning I/142 Final Project/test.csv')\n",
    "test_labels = pd.read_csv('C:/Users/dlsim/Documents/_College/1 UC Davis/4 Senior Year/Win - STA 142a - Statistical Learning I/142 Final Project/test_labels.csv')"
   ]
  },
  {
   "cell_type": "code",
   "execution_count": null,
   "metadata": {},
   "outputs": [],
   "source": [
    "# Observing data\n",
    "print(f\"Train Data dimensions are {training.shape}\")\n",
    "#print(f\"Train Data dimensions are {test.shape}\")\n",
    "\n",
    "training.head(3)"
   ]
  },
  {
   "cell_type": "code",
   "execution_count": null,
   "metadata": {},
   "outputs": [],
   "source": [
    "# Visualization - https://www.kaggle.com/sasidharturaga/eda-step-wise-preprocess-and-lstm-classifier\n",
    "import plotly.express as px\n",
    "\n",
    "df1 = pd.DataFrame(training[training.columns[2:]].sum(axis=0)).reset_index() \n",
    "df1[\"Type of Comment Violation\"] = df1[\"index\"]\n",
    "df1[\"Number of Comments\"] = df1[0]\n",
    "df1.head(6)"
   ]
  },
  {
   "cell_type": "code",
   "execution_count": null,
   "metadata": {},
   "outputs": [],
   "source": [
    "df2 = pd.DataFrame(pd.DataFrame(training[training.columns[2:]].sum(axis=1)).reset_index()[0].value_counts())\n",
    "df2[\"Number of Sentences\"]=df2[0]\n",
    "df2[\"Number of Types of Violations\"]=df2.index\n",
    "df2"
   ]
  },
  {
   "cell_type": "code",
   "execution_count": null,
   "metadata": {},
   "outputs": [],
   "source": [
    "#Display of comments \n",
    "df1 = df1.sort_values(0, ascending=False) \n",
    "fig1 = px.bar(df1, x=\"Type of Comment Violation\", y=\"Number of Comments\", title=\"No. of comments per label\",text=\"Number of Comments\")\n",
    "fig1.show()\n",
    "\n",
    "fig2 = px.bar(df2, x=\"Number of Types of Violations\", y=\"Number of Sentences\", title=\"Number of Comments by Amount of Labels\", text=\"Number of Sentences\")\n",
    "fig2.show()"
   ]
  }
 ],
 "metadata": {
  "kernelspec": {
   "display_name": "Python 3",
   "language": "python",
   "name": "python3"
  },
  "language_info": {
   "codemirror_mode": {
    "name": "ipython",
    "version": 3
   },
   "file_extension": ".py",
   "mimetype": "text/x-python",
   "name": "python",
   "nbconvert_exporter": "python",
   "pygments_lexer": "ipython3",
   "version": "3.7.0"
  }
 },
 "nbformat": 4,
 "nbformat_minor": 4
}
